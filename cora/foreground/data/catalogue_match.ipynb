{
 "metadata": {
  "name": ""
 },
 "nbformat": 3,
 "nbformat_minor": 0,
 "worksheets": [
  {
   "cells": [
    {
     "cell_type": "code",
     "collapsed": false,
     "input": [
      "%pylab inline"
     ],
     "language": "python",
     "metadata": {},
     "outputs": [
      {
       "output_type": "stream",
       "stream": "stdout",
       "text": [
        "Populating the interactive namespace from numpy and matplotlib\n"
       ]
      },
      {
       "output_type": "stream",
       "stream": "stderr",
       "text": [
        "WARNING: pylab import has clobbered these variables: ['f', 'beta']\n",
        "`%pylab --no-import-all` prevents importing * from pylab and numpy\n"
       ]
      }
     ],
     "prompt_number": 88
    },
    {
     "cell_type": "code",
     "collapsed": false,
     "input": [
      "import pandas as pd\n",
      "import numpy as np\n",
      "import networkx as nx"
     ],
     "language": "python",
     "metadata": {},
     "outputs": [],
     "prompt_number": 89
    },
    {
     "cell_type": "code",
     "collapsed": false,
     "input": [
      "nvss_tab = pd.read_table(\"nvss.dat\", sep=\"|\", comment=\"#\", header=56, skiprows=[57,58,2265,2267], skipinitialspace=True)\n",
      "vlss_tab = pd.read_table(\"vlss.dat\", sep=\"|\", comment=\"#\", header=48, skiprows=[49,50,1342,1343], skipinitialspace=True)"
     ],
     "language": "python",
     "metadata": {},
     "outputs": [],
     "prompt_number": 90
    },
    {
     "cell_type": "code",
     "collapsed": false,
     "input": [
      "def merge_sources(cat1, cat2, sep):\n",
      "    \n",
      "    cat1 = np.array(cat1)\n",
      "    cat2 = np.array(cat2)\n",
      "    \n",
      "    # Get x, y separations\n",
      "    dx = cat1[:, 0, np.newaxis] - cat2[np.newaxis, :, 0]\n",
      "    dy = cat1[:, 1, np.newaxis] - cat2[np.newaxis, :, 1]\n",
      "    \n",
      "    # Unwrap x separation\n",
      "    dx = np.where(dx < 180.0, dx, dx - 360.0)\n",
      "    \n",
      "    # Convert to radians\n",
      "    dxr = np.radians(dx)\n",
      "    dyr = np.radians(dy)\n",
      "\n",
      "    # Find separation\n",
      "    dd = (dxr**2 * np.cos(dyr) + dyr**2)**0.5\n",
      "    \n",
      "    # Return merge mask\n",
      "    return (dd < np.radians(sep))"
     ],
     "language": "python",
     "metadata": {},
     "outputs": [],
     "prompt_number": 91
    },
    {
     "cell_type": "markdown",
     "metadata": {},
     "source": [
      "## Merge Close Sources"
     ]
    },
    {
     "cell_type": "code",
     "collapsed": false,
     "input": [
      "nvss_pos = nvss_tab.iloc[:, :2]\n",
      "vlss_pos = vlss_tab.iloc[:, :2]"
     ],
     "language": "python",
     "metadata": {},
     "outputs": [],
     "prompt_number": 92
    },
    {
     "cell_type": "code",
     "collapsed": false,
     "input": [
      "nvss_merge = merge_sources(nvss_pos, nvss_pos, 0.2)\n",
      "vlss_merge = merge_sources(vlss_pos, vlss_pos, 0.2)"
     ],
     "language": "python",
     "metadata": {},
     "outputs": [],
     "prompt_number": 93
    },
    {
     "cell_type": "code",
     "collapsed": false,
     "input": [
      "nvss_groups = nx.connected_components(nx.Graph(nvss_merge))\n",
      "vlss_groups = nx.connected_components(nx.Graph(vlss_merge))"
     ],
     "language": "python",
     "metadata": {},
     "outputs": [],
     "prompt_number": 94
    },
    {
     "cell_type": "code",
     "collapsed": false,
     "input": [
      "indarr_nvss = -1*np.ones(nvss_tab.shape[0], dtype=np.int)\n",
      "\n",
      "for c_ind, c_list in enumerate(nvss_groups):\n",
      "    for n_ind in c_list:\n",
      "        indarr_nvss[n_ind] = c_ind\n",
      "        \n",
      "indarr_vlss = -1*np.ones(vlss_tab.shape[0], dtype=np.int)\n",
      "\n",
      "for c_ind, c_list in enumerate(vlss_groups):\n",
      "    for n_ind in c_list:\n",
      "        indarr_vlss[n_ind] = c_ind"
     ],
     "language": "python",
     "metadata": {},
     "outputs": [],
     "prompt_number": 95
    },
    {
     "cell_type": "code",
     "collapsed": false,
     "input": [
      "def select_nvss(group):\n",
      "    # Base off group max\n",
      "    groupmax = group.ix[group['S1.4'].idxmax()]\n",
      "    \n",
      "    # Sum fluxes\n",
      "    groupmax['S1.4'] = group['S1.4'].sum()\n",
      "    groupmax['polFlux'] = group['polFlux'].sum()\n",
      "    \n",
      "    # Combine errors in quadrature\n",
      "    groupmax['e_S1.4'] = (group['e_S1.4']**2).sum()**0.5\n",
      "    groupmax['e_polFlux'] = (group['e_polFlux']**2).sum()**0.5\n",
      "    \n",
      "    return groupmax\n",
      "\n",
      "def select_vlss(group):\n",
      "    # Base off group max\n",
      "    groupmax = group.ix[group['Si'].idxmax()]\n",
      "    \n",
      "    # Sum fluxes\n",
      "    groupmax['Si'] = group['Si'].sum()\n",
      "    \n",
      "    # Combine errors in quadrature\n",
      "    groupmax['e_Si'] = (group['e_Si']**2).sum()**0.5\n",
      "    \n",
      "    return groupmax\n",
      "    "
     ],
     "language": "python",
     "metadata": {},
     "outputs": [],
     "prompt_number": 96
    },
    {
     "cell_type": "code",
     "collapsed": false,
     "input": [
      "nvss_grouped = nvss_tab.copy().groupby(indarr_nvss, axis=0)\n",
      "vlss_grouped = vlss_tab.copy().groupby(indarr_vlss, axis=0)"
     ],
     "language": "python",
     "metadata": {},
     "outputs": [],
     "prompt_number": 97
    },
    {
     "cell_type": "code",
     "collapsed": false,
     "input": [
      "nvss_tab2 = nvss_grouped.apply(select_nvss)\n",
      "vlss_tab2 = vlss_grouped.apply(select_vlss)"
     ],
     "language": "python",
     "metadata": {},
     "outputs": [],
     "prompt_number": 98
    },
    {
     "cell_type": "markdown",
     "metadata": {},
     "source": [
      "## Merge Catalogs"
     ]
    },
    {
     "cell_type": "code",
     "collapsed": false,
     "input": [
      "nvss_pos = nvss_tab2.iloc[:, :2]\n",
      "vlss_pos = vlss_tab2.iloc[:, :2]"
     ],
     "language": "python",
     "metadata": {},
     "outputs": [],
     "prompt_number": 99
    },
    {
     "cell_type": "code",
     "collapsed": false,
     "input": [
      "merge_ind = merge_sources(nvss_pos, vlss_pos, 0.1)"
     ],
     "language": "python",
     "metadata": {},
     "outputs": [],
     "prompt_number": 100
    },
    {
     "cell_type": "code",
     "collapsed": false,
     "input": [
      "nvss_map, vlss_map = np.where(merge_ind)"
     ],
     "language": "python",
     "metadata": {},
     "outputs": [],
     "prompt_number": 101
    },
    {
     "cell_type": "code",
     "collapsed": false,
     "input": [
      "nvss_mtab = nvss_tab2.copy().take(nvss_map).reset_index(drop=True)\n",
      "vlss_mtab = vlss_tab2.copy().take(vlss_map).reset_index(drop=True)"
     ],
     "language": "python",
     "metadata": {},
     "outputs": [],
     "prompt_number": 102
    },
    {
     "cell_type": "markdown",
     "metadata": {},
     "source": [
      "Clean-up columns before merging"
     ]
    },
    {
     "cell_type": "code",
     "collapsed": false,
     "input": [
      "del nvss_mtab[\"RAJ2000\"]\n",
      "del nvss_mtab[\"DEJ2000\"]\n",
      "del nvss_mtab[\"e_RAJ2000\"]\n",
      "del nvss_mtab[\"e_DEJ2000\"]\n",
      "\n",
      "nvss_mtab.rename(columns={'NVSS' : 'NAME', '_RAJ2000' : 'RA', '_DEJ2000' : 'DEC', 'S1.4' : 'S1400', 'e_S1.4' : 'e_S1400', 'polFlux' : 'P1400', 'e_polFlux' : 'e_P1400', 'polPA' : 'POLANG', 'e_polPA' : 'e_POLANG'}, inplace=True)"
     ],
     "language": "python",
     "metadata": {},
     "outputs": [],
     "prompt_number": 103
    },
    {
     "cell_type": "code",
     "collapsed": false,
     "input": [
      "del vlss_mtab[\"_RAJ2000\"]\n",
      "del vlss_mtab[\"_DEJ2000\"]\n",
      "del vlss_mtab[\"VLSS\"]\n",
      "del vlss_mtab[\"RAJ2000\"]\n",
      "del vlss_mtab[\"DEJ2000\"]\n",
      "del vlss_mtab[\"e_RAJ2000\"]\n",
      "del vlss_mtab[\"e_DEJ2000\"]\n",
      "\n",
      "vlss_mtab.rename(columns={'Si' : 'S74', 'e_Si' : 'e_S74'}, inplace=True)"
     ],
     "language": "python",
     "metadata": {},
     "outputs": [],
     "prompt_number": 104
    },
    {
     "cell_type": "markdown",
     "metadata": {},
     "source": [
      "Merge tables"
     ]
    },
    {
     "cell_type": "code",
     "collapsed": false,
     "input": [
      "merged_table = nvss_mtab.join(vlss_mtab)"
     ],
     "language": "python",
     "metadata": {},
     "outputs": [],
     "prompt_number": 105
    },
    {
     "cell_type": "code",
     "collapsed": false,
     "input": [
      "merged_pos = merged_table.iloc[:, :2]"
     ],
     "language": "python",
     "metadata": {},
     "outputs": [],
     "prompt_number": 106
    },
    {
     "cell_type": "code",
     "collapsed": false,
     "input": [
      "plot(nvss_pos['_RAJ2000'], nvss_pos['_DEJ2000'], 'rD')\n",
      "plot(vlss_pos['_RAJ2000'], vlss_pos['_DEJ2000'], 'b+')\n",
      "plot(merged_pos['RA'], merged_pos['DEC'], 'gx')\n",
      "xlim(0, 50)\n",
      "ylim(0, 20)"
     ],
     "language": "python",
     "metadata": {},
     "outputs": [
      {
       "metadata": {},
       "output_type": "pyout",
       "prompt_number": 107,
       "text": [
        "(0, 20)"
       ]
      },
      {
       "metadata": {},
       "output_type": "display_data",
       "png": "[encoded data removed]",
       "text": [
        "<matplotlib.figure.Figure at 0x111e2bd90>"
       ]
      }
     ],
     "prompt_number": 107
    },
    {
     "cell_type": "markdown",
     "metadata": {},
     "source": [
      "Change units into Janskys"
     ]
    },
    {
     "cell_type": "code",
     "collapsed": false,
     "input": [
      "merged_table['S1400'] = merged_table['S1400'] / 1000.0\n",
      "merged_table['e_S1400'] = merged_table['e_S1400'] / 1000.0\n",
      "merged_table['P1400'] = merged_table['P1400'] / 1000.0\n",
      "merged_table['e_P1400'] = merged_table['e_P1400'] / 1000.0"
     ],
     "language": "python",
     "metadata": {},
     "outputs": [],
     "prompt_number": 108
    },
    {
     "cell_type": "markdown",
     "metadata": {},
     "source": [
      "## Give Useful Names"
     ]
    },
    {
     "cell_type": "code",
     "collapsed": false,
     "input": [
      "cat3c = pd.read_table(\"3c_modern.dat\", sep=\"|\", comment=\"#\", skipinitialspace=True, header=None, names=['ID', '3CNAME', 'NAME', 'TYPE', 'RA', 'DEC'], skiprows=6)"
     ],
     "language": "python",
     "metadata": {},
     "outputs": [],
     "prompt_number": 109
    },
    {
     "cell_type": "code",
     "collapsed": false,
     "input": [
      "pos3c = cat3c.iloc[:, -2:]"
     ],
     "language": "python",
     "metadata": {},
     "outputs": [],
     "prompt_number": 110
    },
    {
     "cell_type": "code",
     "collapsed": false,
     "input": [
      "merge_3c = merge_sources(merged_pos, pos3c, 0.5)"
     ],
     "language": "python",
     "metadata": {},
     "outputs": [],
     "prompt_number": 111
    },
    {
     "cell_type": "code",
     "collapsed": false,
     "input": [
      "p1, p2 = np.where(merge_3c)"
     ],
     "language": "python",
     "metadata": {},
     "outputs": [],
     "prompt_number": 112
    },
    {
     "cell_type": "code",
     "collapsed": false,
     "input": [
      "merged_table2 = merged_table.copy()"
     ],
     "language": "python",
     "metadata": {},
     "outputs": [],
     "prompt_number": 113
    },
    {
     "cell_type": "markdown",
     "metadata": {},
     "source": [
      "Replace NVSS names with more useful resolved names if we can."
     ]
    },
    {
     "cell_type": "code",
     "collapsed": false,
     "input": [
      "for mi, ci in zip(p1, p2):\n",
      "    merged_table2['NAME'][mi] = cat3c['NAME'][ci]"
     ],
     "language": "python",
     "metadata": {},
     "outputs": [],
     "prompt_number": 114
    },
    {
     "cell_type": "code",
     "collapsed": false,
     "input": [
      "plot(merged_table2['RA'], merged_table2['DEC'], 'gx')"
     ],
     "language": "python",
     "metadata": {},
     "outputs": [
      {
       "metadata": {},
       "output_type": "pyout",
       "prompt_number": 115,
       "text": [
        "[<matplotlib.lines.Line2D at 0x1118e7a50>]"
       ]
      },
      {
       "metadata": {},
       "output_type": "display_data",
       "png": "[encoded data removed]",
       "text": [
        "<matplotlib.figure.Figure at 0x111075490>"
       ]
      }
     ],
     "prompt_number": 115
    },
    {
     "cell_type": "code",
     "collapsed": false,
     "input": [
      "merged_table2.sort([\"S1400\"], ascending=False).to_csv(\"combined.dat\", sep=\"|\", index=False)"
     ],
     "language": "python",
     "metadata": {},
     "outputs": [],
     "prompt_number": 116
    },
    {
     "cell_type": "code",
     "collapsed": false,
     "input": [
      "merged_sort = merged_table2.sort([\"S1400\"], ascending=False).copy()"
     ],
     "language": "python",
     "metadata": {},
     "outputs": [],
     "prompt_number": 117
    },
    {
     "cell_type": "code",
     "collapsed": false,
     "input": [
      "merged_sort['NAME'] = merged_sort['NAME'].str.strip().str.replace(\" \", \"_\")"
     ],
     "language": "python",
     "metadata": {},
     "outputs": [],
     "prompt_number": 118
    },
    {
     "cell_type": "markdown",
     "metadata": {},
     "source": [
      "## Add Derived Spectral Information"
     ]
    },
    {
     "cell_type": "markdown",
     "metadata": {},
     "source": [
      "Calculate spectral index"
     ]
    },
    {
     "cell_type": "code",
     "collapsed": false,
     "input": [
      "beta = np.log(merged_sort['S74'] / merged_sort['S1400']) / np.log(1400.0 / 74.0)\n",
      "s151 = merged_sort['S74'] * (151.0 / 74.0)**(-beta)\n",
      "p151 = merged_sort['P1400'] * (151.0 / 74.0)**(-beta)"
     ],
     "language": "python",
     "metadata": {},
     "outputs": [],
     "prompt_number": 125
    },
    {
     "cell_type": "markdown",
     "metadata": {},
     "source": [
      "Add into table"
     ]
    },
    {
     "cell_type": "code",
     "collapsed": false,
     "input": [
      "final_table = merged_sort.copy()\n",
      "final_table['S151'] = s151\n",
      "final_table['P151'] = p151\n",
      "final_table['BETA'] = beta"
     ],
     "language": "python",
     "metadata": {},
     "outputs": [],
     "prompt_number": 126
    },
    {
     "cell_type": "code",
     "collapsed": false,
     "input": [
      "with open(\"combinedps.dat\", \"w\") as f:\n",
      "    f.write(final_table.to_string(index=False))"
     ],
     "language": "python",
     "metadata": {},
     "outputs": [],
     "prompt_number": 127
    },
    {
     "cell_type": "code",
     "collapsed": false,
     "input": [
      "with open(\"combinedps.dat\", \"r\") as f:\n",
      "    arr = np.genfromtxt(f, names=True)"
     ],
     "language": "python",
     "metadata": {},
     "outputs": [],
     "prompt_number": 122
    }
   ],
   "metadata": {}
  }
 ]
}